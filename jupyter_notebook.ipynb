{
 "cells": [
  {
   "cell_type": "markdown",
   "metadata": {},
   "source": [
    "# Realty Investment in Paris Area, France"
   ]
  },
  {
   "cell_type": "markdown",
   "metadata": {},
   "source": [
    "## Table of Contents\n",
    "\n",
    "[Introduction](#introduction)  \n",
    "[Data Collection](#data_collection)  \n",
    "[Data Cleaning](#data_cleaning)  \n",
    "[Methodolgy](#methodology)  \n",
    "[Analysis](#analysis)  \n",
    "[Results and Discussion](#results)  \n",
    "[Conclusion](#conclusion)"
   ]
  },
  {
   "cell_type": "markdown",
   "metadata": {},
   "source": [
    "<a id='introduction'></a>"
   ]
  },
  {
   "cell_type": "markdown",
   "metadata": {},
   "source": [
    "## Introduction  \n",
    "Paris is a worldwide known city which attract people from all over the world because of its historical sightseeings, French cuisine and fashion industry. Alongside with that Paris itself has an early mediaeval planification with dense building and very few areas for new constructions. All these factors contributed to a significant increase in real-estate market. However, more and more young people moving to Paris for career reason, are interesting to become property owners.  \n",
    "The aim of this project is to guide young families in their first investment project to become a realty owner in Paris suburb area. It is not an easy decision that often conducts to an engagement with bank for multiple years. With this project I am going to reveal several criteria to facilitate decision making."
   ]
  },
  {
   "cell_type": "markdown",
   "metadata": {},
   "source": [
    "<a id='data_collection'></a>"
   ]
  },
  {
   "cell_type": "markdown",
   "metadata": {},
   "source": [
    "## Data Collection  \n",
    "\n",
    "First, before the data description and collection lets define the area of interest and make some assumptions. As we are focusing on a young familly with an average income, the expensive city of Paris remains outside the scope of the analysis. Instead, multiple <i>communes</i> (i.e. towns) in Ile-de-France region can hide interesting investment cases. So, in this study we will cover the following districts (__[www.kelcodepostal.fr](https://kelcodepostal.fr/)__):  \n",
    "<ul>\n",
    "<li>Hauts-de-Seine with 36 communes;</li>  \n",
    "<li>Seine-Saint-Denis with 40 communes;</li>  \n",
    "<li>Val-de-Marne with 47 communes.</li>  \n",
    "</ul>  \n",
    "Moreover, in this study we will focus on official real-estate market rates only (__[www.meilleursagents.com](https://www.meilleursagents.com/prix-immobilier/)__). In addition, we will consider different evaluation metrics on communes given by inhabitants (__[www.ville-ideale.fr](https://www.ville-ideale.fr/)__). Also, the legal side and French laws in realty sector (ex. <i>Carrez</i> law, <i>Pinel</i> law, etc.) remain outside the presented analysis.  \n"
   ]
  },
  {
   "cell_type": "code",
   "execution_count": null,
   "metadata": {},
   "outputs": [],
   "source": []
  },
  {
   "cell_type": "markdown",
   "metadata": {},
   "source": [
    "<a id='data_cleaning'></a>"
   ]
  },
  {
   "cell_type": "markdown",
   "metadata": {},
   "source": [
    "## Data Cleaning"
   ]
  },
  {
   "cell_type": "code",
   "execution_count": null,
   "metadata": {},
   "outputs": [],
   "source": []
  },
  {
   "cell_type": "markdown",
   "metadata": {},
   "source": [
    "<a id='methodology'></a>"
   ]
  },
  {
   "cell_type": "markdown",
   "metadata": {},
   "source": [
    "## Methodolgy"
   ]
  },
  {
   "cell_type": "code",
   "execution_count": null,
   "metadata": {},
   "outputs": [],
   "source": []
  },
  {
   "cell_type": "markdown",
   "metadata": {},
   "source": [
    "<a id='analysis'></a>"
   ]
  },
  {
   "cell_type": "markdown",
   "metadata": {},
   "source": [
    "## Analysis"
   ]
  },
  {
   "cell_type": "code",
   "execution_count": null,
   "metadata": {},
   "outputs": [],
   "source": []
  },
  {
   "cell_type": "markdown",
   "metadata": {},
   "source": [
    "<a id='results'></a>"
   ]
  },
  {
   "cell_type": "markdown",
   "metadata": {},
   "source": [
    "## Results and Discussion"
   ]
  },
  {
   "cell_type": "code",
   "execution_count": null,
   "metadata": {},
   "outputs": [],
   "source": []
  },
  {
   "cell_type": "markdown",
   "metadata": {},
   "source": [
    "<a name='conclusion'></a>"
   ]
  },
  {
   "cell_type": "markdown",
   "metadata": {},
   "source": [
    "## Conclusion"
   ]
  },
  {
   "cell_type": "code",
   "execution_count": null,
   "metadata": {},
   "outputs": [],
   "source": []
  }
 ],
 "metadata": {
  "language_info": {
   "codemirror_mode": {
    "name": "ipython",
    "version": 3
   },
   "file_extension": ".py",
   "mimetype": "text/x-python",
   "name": "python",
   "nbconvert_exporter": "python",
   "pygments_lexer": "ipython3",
   "version": "3.7.6-final"
  },
  "orig_nbformat": 2,
  "kernelspec": {
   "name": "python37664bitc80a2dc1366d4a00bd9f6354b858becc",
   "display_name": "Python 3.7.6 64-bit"
  }
 },
 "nbformat": 4,
 "nbformat_minor": 2
}